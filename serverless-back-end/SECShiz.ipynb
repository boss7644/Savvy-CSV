{
 "cells": [
  {
   "cell_type": "code",
   "execution_count": 1,
   "id": "af0f3a4c-3e4a-4847-9eac-bb7e68fbe84f",
   "metadata": {},
   "outputs": [],
   "source": [
    "import pandas as pd\n",
    "from sec_api import QueryApi\n",
    "from sec_api import ExtractorApi\n",
    "\n",
    "\n",
    "extractorApi = ExtractorApi(API_KEY)\n",
    "queryApi = QueryApi(API_KEY)\n",
    "\n",
    "def getCompany10ks(ticker):\n",
    "    query = {\n",
    "      \"query\": \"ticker:\"+ticker+\" AND filedAt:[2023-07-29 TO 2024-07-29] AND formType:\\\"10-k\\\"\",\n",
    "      \"from\": \"0\",\n",
    "      \"size\": \"10\",\n",
    "      \"sort\": [{ \"filedAt\": { \"order\": \"desc\" } }]\n",
    "    }\n",
    "    response = queryApi.get_filings(query)\n",
    "    return response['filings'][0]['documentFormatFiles'][0]['documentUrl']\n",
    "\n",
    "def get10ktext(url):\n",
    "    dict10k = {}\n",
    "    section_items = ['1', '1A', '1B', '1C', '2', '3', '4', '5', '6', '7', '7A', '8', '9', '9A', '9B', '10', '11', '12', '13', '14', '15' ]\n",
    "    text = \" \"\n",
    "    for item in section_items:\n",
    "        section_text = extractorApi.get_section(url, item, \"text\")\n",
    "        dict10k[item] = section_text\n",
    "    return dict10k\n",
    "    \n",
    "def getTables(url):\n",
    "    tablesDict = {}\n",
    "    section_items = ['1', '1A', '1B', '1C', '2', '3', '4', '5', '6', '7', '7A', '8', '9', '9A', '9B', '10', '11', '12', '13', '14', '15' ]\n",
    "    for item in section_items:\n",
    "        section_html = extractorApi.get_section(url, item, \"html\")\n",
    "        try:\n",
    "            tablesDF = pd.read_html(section_html)\n",
    "            tablesDict[item] = tablesDF\n",
    "        except ValueError:  # Catch the error raised when no tables are found\n",
    "            tablesDict[item] = None  # or [] if you prefer an empty list\n",
    "            print(f\"No tables found for section {item}.\")\n",
    "    return tablesDict\n",
    "\n",
    "def getCompanyData(ticker):\n",
    "    url = getCompany10ks(ticker)\n",
    "    textFiling = get10ktext(url)\n",
    "    tables = getTables(url)\n",
    "    return textFiling, tables"
   ]
  },
  {
   "cell_type": "code",
   "execution_count": 5,
   "id": "aea83ee9-36d5-4785-b4ac-3029a622fe32",
   "metadata": {},
   "outputs": [
    {
     "name": "stderr",
     "output_type": "stream",
     "text": [
      "C:\\Users\\Willg\\AppData\\Local\\Temp\\ipykernel_18308\\1030912514.py:34: FutureWarning: Passing literal html to 'read_html' is deprecated and will be removed in a future version. To read from a literal string, wrap it in a 'StringIO' object.\n",
      "  tablesDF = pd.read_html(section_html)\n"
     ]
    },
    {
     "name": "stdout",
     "output_type": "stream",
     "text": [
      "No tables found for section 1.\n",
      "No tables found for section 1A.\n",
      "No tables found for section 1B.\n",
      "No tables found for section 1C.\n",
      "No tables found for section 2.\n",
      "No tables found for section 3.\n",
      "No tables found for section 4.\n"
     ]
    },
    {
     "name": "stderr",
     "output_type": "stream",
     "text": [
      "C:\\Users\\Willg\\AppData\\Local\\Temp\\ipykernel_18308\\1030912514.py:34: FutureWarning: Passing literal html to 'read_html' is deprecated and will be removed in a future version. To read from a literal string, wrap it in a 'StringIO' object.\n",
      "  tablesDF = pd.read_html(section_html)\n"
     ]
    },
    {
     "name": "stdout",
     "output_type": "stream",
     "text": [
      "No tables found for section 6.\n"
     ]
    },
    {
     "name": "stderr",
     "output_type": "stream",
     "text": [
      "C:\\Users\\Willg\\AppData\\Local\\Temp\\ipykernel_18308\\1030912514.py:34: FutureWarning: Passing literal html to 'read_html' is deprecated and will be removed in a future version. To read from a literal string, wrap it in a 'StringIO' object.\n",
      "  tablesDF = pd.read_html(section_html)\n",
      "C:\\Users\\Willg\\AppData\\Local\\Temp\\ipykernel_18308\\1030912514.py:34: FutureWarning: Passing literal html to 'read_html' is deprecated and will be removed in a future version. To read from a literal string, wrap it in a 'StringIO' object.\n",
      "  tablesDF = pd.read_html(section_html)\n",
      "C:\\Users\\Willg\\AppData\\Local\\Temp\\ipykernel_18308\\1030912514.py:34: FutureWarning: Passing literal html to 'read_html' is deprecated and will be removed in a future version. To read from a literal string, wrap it in a 'StringIO' object.\n",
      "  tablesDF = pd.read_html(section_html)\n"
     ]
    },
    {
     "name": "stdout",
     "output_type": "stream",
     "text": [
      "No tables found for section 9.\n",
      "No tables found for section 9A.\n",
      "No tables found for section 9B.\n",
      "No tables found for section 10.\n",
      "No tables found for section 11.\n",
      "No tables found for section 12.\n",
      "No tables found for section 13.\n",
      "No tables found for section 14.\n"
     ]
    }
   ],
   "source": [
    "appleText, appleTables = getCompanyData(\"AAPL\")"
   ]
  },
  {
   "cell_type": "code",
   "execution_count": 3,
   "id": "a61aadf0-832d-46b2-a4c0-acbcebc636e5",
   "metadata": {},
   "outputs": [],
   "source": [
    "from sec_api import XbrlApi\n",
    "\n",
    "xbrlApi = XbrlApi(\"9a658e0f3e03d9f882ff1529631d3f2120986bafaa496b0c3a66856ccbbb19be\")\n",
    "\n",
    "# 10-K HTM File URL example\n",
    "htm_url=\"https://www.sec.gov/Archives/edgar/data/320193/000032019320000096/aapl-20200926.htm\"\n",
    "xbrl_json = xbrlApi.xbrl_to_json(htm_url=htm_url)"
   ]
  },
  {
   "cell_type": "code",
   "execution_count": 9,
   "id": "3b27a898-e3f7-4883-aa09-51879aa89c50",
   "metadata": {},
   "outputs": [],
   "source": [
    "import pandas as pd\n",
    "from sec_api import QueryApi\n",
    "from sec_api import ExtractorApi\n",
    "from sec_api import XbrlApi\n",
    "API_KEY = \"9a658e0f3e03d9f882ff1529631d3f2120986bafaa496b0c3a66856ccbbb19be\"\n",
    "extractorApi = ExtractorApi(API_KEY)\n",
    "queryApi = QueryApi(API_KEY)\n",
    "xbrlApi = XbrlApi(API_KEY)\n",
    "\n",
    "\n",
    "def companyDataJson(ticker):\n",
    "    url = getCompany10ks(ticker)\n",
    "    json = xbrlApi.xbrl_to_json(htm_url=url)\n",
    "    return json\n",
    "    \n",
    "# convert XBRL-JSON of income statement to pandas dataframe\n",
    "def get_income_statement(xbrl_json):\n",
    "    income_statement_store = {}\n",
    "\n",
    "    # iterate over each US GAAP item in the income statement\n",
    "    for usGaapItem in xbrl_json['StatementsOfIncome']:\n",
    "        values = []\n",
    "        indicies = []\n",
    "\n",
    "        for fact in xbrl_json['StatementsOfIncome'][usGaapItem]:\n",
    "            # only consider items without segment. not required for our analysis.\n",
    "            if 'segment' not in fact:\n",
    "                index = fact['period']['startDate'] + '-' + fact['period']['endDate']\n",
    "                # ensure no index duplicates are created\n",
    "                if index not in indicies:\n",
    "                    values.append(fact['value'])\n",
    "                    indicies.append(index)                    \n",
    "\n",
    "        income_statement_store[usGaapItem] = pd.Series(values, index=indicies) \n",
    "\n",
    "    income_statement = pd.DataFrame(income_statement_store)\n",
    "    # switch columns and rows so that US GAAP items are rows and each column header represents a date range\n",
    "    return income_statement.T \n",
    "    \n",
    "# convert XBRL-JSON of balance sheet to pandas dataframe\n",
    "def get_balance_sheet(xbrl_json):\n",
    "    balance_sheet_store = {}\n",
    "\n",
    "    for usGaapItem in xbrl_json['BalanceSheets']:\n",
    "        values = []\n",
    "        indicies = []\n",
    "\n",
    "        for fact in xbrl_json['BalanceSheets'][usGaapItem]:\n",
    "            # only consider items without segment.\n",
    "            if 'segment' not in fact:\n",
    "                index = fact['period']['instant']\n",
    "\n",
    "                # avoid duplicate indicies with same values\n",
    "                if index in indicies:\n",
    "                    continue\n",
    "                    \n",
    "                # add 0 if value is nil\n",
    "                if \"value\" not in fact:\n",
    "                    values.append(0)\n",
    "                else:\n",
    "                    values.append(fact['value'])\n",
    "\n",
    "                indicies.append(index)                    \n",
    "\n",
    "            balance_sheet_store[usGaapItem] = pd.Series(values, index=indicies) \n",
    "\n",
    "    balance_sheet = pd.DataFrame(balance_sheet_store)\n",
    "    # switch columns and rows so that US GAAP items are rows and each column header represents a date instant\n",
    "    return balance_sheet.T"
   ]
  },
  {
   "cell_type": "code",
   "execution_count": 11,
   "id": "27d7f8c6-80a4-4414-846d-e15ade4e1ada",
   "metadata": {},
   "outputs": [
    {
     "ename": "NameError",
     "evalue": "name 'apple' is not defined",
     "output_type": "error",
     "traceback": [
      "\u001b[1;31m---------------------------------------------------------------------------\u001b[0m",
      "\u001b[1;31mNameError\u001b[0m                                 Traceback (most recent call last)",
      "Cell \u001b[1;32mIn[11], line 1\u001b[0m\n\u001b[1;32m----> 1\u001b[0m income_statement \u001b[38;5;241m=\u001b[39m get_income_statement(apple)\n\u001b[0;32m      2\u001b[0m balance_sheet \u001b[38;5;241m=\u001b[39m get_balance_sheet(apple)\n",
      "\u001b[1;31mNameError\u001b[0m: name 'apple' is not defined"
     ]
    }
   ],
   "source": [
    "income_statement = get_income_statement(apple)\n",
    "balance_sheet = get_balance_sheet(apple)"
   ]
  },
  {
   "cell_type": "code",
   "execution_count": null,
   "id": "46d5daca-de56-4156-b192-8fc2667dce36",
   "metadata": {},
   "outputs": [],
   "source": []
  }
 ],
 "metadata": {
  "kernelspec": {
   "display_name": "Python 3 (ipykernel)",
   "language": "python",
   "name": "python3"
  },
  "language_info": {
   "codemirror_mode": {
    "name": "ipython",
    "version": 3
   },
   "file_extension": ".py",
   "mimetype": "text/x-python",
   "name": "python",
   "nbconvert_exporter": "python",
   "pygments_lexer": "ipython3",
   "version": "3.11.7"
  }
 },
 "nbformat": 4,
 "nbformat_minor": 5
}
